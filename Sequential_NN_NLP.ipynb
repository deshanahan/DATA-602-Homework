{
  "nbformat": 4,
  "nbformat_minor": 0,
  "metadata": {
    "colab": {
      "name": "Sequential_NN_NLP.ipynb",
      "provenance": [],
      "authorship_tag": "ABX9TyOpPVpQrpQ0dgM9Po3sUOK1",
      "include_colab_link": true
    },
    "kernelspec": {
      "name": "python3",
      "display_name": "Python 3"
    },
    "language_info": {
      "name": "python"
    }
  },
  "cells": [
    {
      "cell_type": "markdown",
      "metadata": {
        "id": "view-in-github",
        "colab_type": "text"
      },
      "source": [
        "<a href=\"https://colab.research.google.com/github/deshanahan/DATA-602-Homework/blob/main/Sequential_NN_NLP.ipynb\" target=\"_parent\"><img src=\"https://colab.research.google.com/assets/colab-badge.svg\" alt=\"Open In Colab\"/></a>"
      ]
    },
    {
      "cell_type": "code",
      "metadata": {
        "id": "GprE_-QHcLLy"
      },
      "source": [
        "from tensorflow.keras import preprocessing\n",
        "from tensorflow.keras import models\n",
        "from tensorflow.keras.datasets import imdb\n",
        "from sklearn.feature_extraction import text\n",
        "import numpy as np"
      ],
      "execution_count": 1,
      "outputs": []
    },
    {
      "cell_type": "code",
      "metadata": {
        "colab": {
          "base_uri": "https://localhost:8080/"
        },
        "id": "64mTgTItgXdc",
        "outputId": "4442cc7b-30fc-424b-e967-21372e96aae9"
      },
      "source": [
        "(training_data, training_targets), (testing_data, testing_targets) = imdb.load_data(num_words=10000)"
      ],
      "execution_count": 2,
      "outputs": [
        {
          "output_type": "stream",
          "text": [
            "<string>:6: VisibleDeprecationWarning: Creating an ndarray from ragged nested sequences (which is a list-or-tuple of lists-or-tuples-or ndarrays with different lengths or shapes) is deprecated. If you meant to do this, you must specify 'dtype=object' when creating the ndarray\n",
            "/usr/local/lib/python3.7/dist-packages/tensorflow/python/keras/datasets/imdb.py:159: VisibleDeprecationWarning: Creating an ndarray from ragged nested sequences (which is a list-or-tuple of lists-or-tuples-or ndarrays with different lengths or shapes) is deprecated. If you meant to do this, you must specify 'dtype=object' when creating the ndarray\n",
            "  x_train, y_train = np.array(xs[:idx]), np.array(labels[:idx])\n",
            "/usr/local/lib/python3.7/dist-packages/tensorflow/python/keras/datasets/imdb.py:160: VisibleDeprecationWarning: Creating an ndarray from ragged nested sequences (which is a list-or-tuple of lists-or-tuples-or ndarrays with different lengths or shapes) is deprecated. If you meant to do this, you must specify 'dtype=object' when creating the ndarray\n",
            "  x_test, y_test = np.array(xs[idx:]), np.array(labels[idx:])\n"
          ],
          "name": "stderr"
        }
      ]
    },
    {
      "cell_type": "code",
      "metadata": {
        "colab": {
          "base_uri": "https://localhost:8080/"
        },
        "id": "im0fANaLjlru",
        "outputId": "c04360b3-524f-4f89-a34a-960cf490803a"
      },
      "source": [
        "data = np.concatenate((training_data, testing_data), axis=0)\n",
        "targets = np.concatenate((training_targets, testing_targets), axis=0)\n",
        "\n",
        "length = [len(i) for i in data]\n",
        "\n",
        "\n",
        "print(f'Number of unique categories for the target variable:\\n{len(np.unique(targets))}\\n')\n",
        "print(f'Average review length:\\n{round(np.mean(length))}\\n')\n",
        "print(f'Standard Deviation of review lengths:\\n{round(np.std(length))}')"
      ],
      "execution_count": 3,
      "outputs": [
        {
          "output_type": "stream",
          "text": [
            "Number of unique categories for the target variable:\n",
            "2\n",
            "\n",
            "Average review length:\n",
            "235\n",
            "\n",
            "Standard Deviation of review lengths:\n",
            "173\n"
          ],
          "name": "stdout"
        }
      ]
    },
    {
      "cell_type": "code",
      "metadata": {
        "colab": {
          "base_uri": "https://localhost:8080/"
        },
        "id": "ts5ve0QrA4A3",
        "outputId": "30e63386-3c6e-4ef1-d9e3-57c983e0de4c"
      },
      "source": [
        "index = imdb.get_word_index()\n",
        "reverse_index = dict([(value, key) for (key, value) in index.items()])\n",
        "decoded = ' '.join([reverse_index.get(i - 3, '#') for i in data[0]])\n",
        "print(decoded)"
      ],
      "execution_count": 4,
      "outputs": [
        {
          "output_type": "stream",
          "text": [
            "# this film was just brilliant casting location scenery story direction everyone's really suited the part they played and you could just imagine being there robert # is an amazing actor and now the same being director # father came from the same scottish island as myself so i loved the fact there was a real connection with this film the witty remarks throughout the film were great it was just brilliant so much that i bought the film as soon as it was released for # and would recommend it to everyone to watch and the fly fishing was amazing really cried at the end it was so sad and you know what they say if you cry at a film it must have been good and this definitely was also # to the two little boy's that played the # of norman and paul they were just brilliant children are often left out of the # list i think because the stars that play them all grown up are such a big profile for the whole film but these children are amazing and should be praised for what they have done don't you think the whole story was so lovely because it was true and was someone's life after all that was shared with us all\n"
          ],
          "name": "stdout"
        }
      ]
    },
    {
      "cell_type": "code",
      "metadata": {
        "id": "j7uZBIJtDWn7"
      },
      "source": [
        "def vectorize(sequences, dimension = 10000):\n",
        "  results = np.zeros((len(sequences), dimension))\n",
        "  for i, sequence in enumerate(sequences):\n",
        "    results[i, sequence] = 1\n",
        "  return results\n",
        "\n",
        "data = vectorize(data)\n",
        "targets = np.array(targets).astype('float32')"
      ],
      "execution_count": 5,
      "outputs": []
    },
    {
      "cell_type": "code",
      "metadata": {
        "id": "xHFnMk9qEkFl"
      },
      "source": [
        "test_x = data[:10000]\n",
        "test_y = targets[:10000]\n",
        "train_x = data[10000:]\n",
        "train_y = targets[10000:]"
      ],
      "execution_count": 6,
      "outputs": []
    },
    {
      "cell_type": "code",
      "metadata": {
        "id": "Zl-C63mFopst",
        "colab": {
          "base_uri": "https://localhost:8080/"
        },
        "outputId": "a052262d-693d-4faf-c906-d9d229430662"
      },
      "source": [
        "print(f'Length of train features:\\n{len(train_x)}\\n')\n",
        "print(f'Length of test features:\\n{len(test_x)}\\n')\n",
        "print(f'Length of train targets:\\n{len(train_y)}\\n')\n",
        "print(f'Length of test targets:\\n{len(test_y)}\\n')"
      ],
      "execution_count": 7,
      "outputs": [
        {
          "output_type": "stream",
          "text": [
            "Length of train features:\n",
            "40000\n",
            "\n",
            "Length of test features:\n",
            "10000\n",
            "\n",
            "Length of train targets:\n",
            "40000\n",
            "\n",
            "Length of test targets:\n",
            "10000\n",
            "\n"
          ],
          "name": "stdout"
        }
      ]
    },
    {
      "cell_type": "code",
      "metadata": {
        "id": "nSTzCJK6qgz5",
        "colab": {
          "base_uri": "https://localhost:8080/"
        },
        "outputId": "db39b11f-42a2-4ca6-fb0d-385591e7e4b4"
      },
      "source": [
        "from tensorflow.keras.layers import Dense, Dropout, Activation\n",
        "from tensorflow.keras.optimizers import Adam\n",
        "dropout_rate = 0.1\n",
        "\n",
        "model = models.Sequential()\n",
        "model.add(Dense(50, activation='relu', input_shape=(10000, )))\n",
        "model.add(Dropout(dropout_rate))\n",
        "model.add(Dense(1024, activation='relu'))\n",
        "model.add(Dropout(dropout_rate))\n",
        "model.add(Dense(2, activation='relu'))\n",
        "model.add(Dense(1, activation='sigmoid'))\n",
        "model.compile(loss='binary_crossentropy', optimizer='adam', metrics=['acc'])\n",
        "\n",
        "epochs = 20\n",
        "batch_size=512\n",
        "validation_data = (test_x, test_y)\n",
        "model.summary()"
      ],
      "execution_count": 8,
      "outputs": [
        {
          "output_type": "stream",
          "text": [
            "Model: \"sequential\"\n",
            "_________________________________________________________________\n",
            "Layer (type)                 Output Shape              Param #   \n",
            "=================================================================\n",
            "dense (Dense)                (None, 50)                500050    \n",
            "_________________________________________________________________\n",
            "dropout (Dropout)            (None, 50)                0         \n",
            "_________________________________________________________________\n",
            "dense_1 (Dense)              (None, 1024)              52224     \n",
            "_________________________________________________________________\n",
            "dropout_1 (Dropout)          (None, 1024)              0         \n",
            "_________________________________________________________________\n",
            "dense_2 (Dense)              (None, 2)                 2050      \n",
            "_________________________________________________________________\n",
            "dense_3 (Dense)              (None, 1)                 3         \n",
            "=================================================================\n",
            "Total params: 554,327\n",
            "Trainable params: 554,327\n",
            "Non-trainable params: 0\n",
            "_________________________________________________________________\n"
          ],
          "name": "stdout"
        }
      ]
    },
    {
      "cell_type": "code",
      "metadata": {
        "colab": {
          "base_uri": "https://localhost:8080/"
        },
        "id": "Qnt8DcnrRnmy",
        "outputId": "91030a99-a0d5-430a-abb7-97e5b2ec75c4"
      },
      "source": [
        "results = model.fit(train_x, train_y, batch_size = batch_size, epochs=epochs, validation_split=0.2, validation_data=validation_data)\n",
        "\n",
        "print('Test Loss:\\n', np.mean(results.history['val_loss']))\n",
        "print('Test Accuracy:\\n', np.mean(results.history['val_acc']))"
      ],
      "execution_count": 9,
      "outputs": [
        {
          "output_type": "stream",
          "text": [
            "Epoch 1/20\n",
            "63/63 [==============================] - 6s 78ms/step - loss: 0.5883 - acc: 0.7200 - val_loss: 0.4646 - val_acc: 0.8885\n",
            "Epoch 2/20\n",
            "63/63 [==============================] - 4s 66ms/step - loss: 0.4329 - acc: 0.9123 - val_loss: 0.4526 - val_acc: 0.8921\n",
            "Epoch 3/20\n",
            "63/63 [==============================] - 4s 62ms/step - loss: 0.3841 - acc: 0.9366 - val_loss: 0.4670 - val_acc: 0.8886\n",
            "Epoch 4/20\n",
            "63/63 [==============================] - 4s 63ms/step - loss: 0.3522 - acc: 0.9456 - val_loss: 0.4785 - val_acc: 0.8830\n",
            "Epoch 5/20\n",
            "63/63 [==============================] - 4s 64ms/step - loss: 0.3254 - acc: 0.9553 - val_loss: 0.5126 - val_acc: 0.8841\n",
            "Epoch 6/20\n",
            "63/63 [==============================] - 4s 64ms/step - loss: 0.3095 - acc: 0.9603 - val_loss: 0.4925 - val_acc: 0.8775\n",
            "Epoch 7/20\n",
            "63/63 [==============================] - 4s 65ms/step - loss: 0.2960 - acc: 0.9615 - val_loss: 0.5360 - val_acc: 0.8841\n",
            "Epoch 8/20\n",
            "63/63 [==============================] - 4s 63ms/step - loss: 0.2838 - acc: 0.9631 - val_loss: 0.5413 - val_acc: 0.8781\n",
            "Epoch 9/20\n",
            "63/63 [==============================] - 4s 63ms/step - loss: 0.2727 - acc: 0.9654 - val_loss: 0.5508 - val_acc: 0.8823\n",
            "Epoch 10/20\n",
            "63/63 [==============================] - 4s 63ms/step - loss: 0.2606 - acc: 0.9661 - val_loss: 0.5451 - val_acc: 0.8830\n",
            "Epoch 11/20\n",
            "63/63 [==============================] - 4s 62ms/step - loss: 0.2504 - acc: 0.9676 - val_loss: 0.5231 - val_acc: 0.8748\n",
            "Epoch 12/20\n",
            "63/63 [==============================] - 4s 66ms/step - loss: 0.2422 - acc: 0.9675 - val_loss: 0.4890 - val_acc: 0.8614\n",
            "Epoch 13/20\n",
            "63/63 [==============================] - 4s 63ms/step - loss: 0.2359 - acc: 0.9674 - val_loss: 0.5820 - val_acc: 0.8888\n",
            "Epoch 14/20\n",
            "63/63 [==============================] - 4s 63ms/step - loss: 0.2265 - acc: 0.9679 - val_loss: 0.5436 - val_acc: 0.8734\n",
            "Epoch 15/20\n",
            "63/63 [==============================] - 4s 64ms/step - loss: 0.2194 - acc: 0.9688 - val_loss: 0.5553 - val_acc: 0.8734\n",
            "Epoch 16/20\n",
            "63/63 [==============================] - 4s 66ms/step - loss: 0.2109 - acc: 0.9698 - val_loss: 0.5707 - val_acc: 0.8775\n",
            "Epoch 17/20\n",
            "63/63 [==============================] - 4s 66ms/step - loss: 0.2035 - acc: 0.9711 - val_loss: 0.5162 - val_acc: 0.8658\n",
            "Epoch 18/20\n",
            "63/63 [==============================] - 4s 63ms/step - loss: 0.2000 - acc: 0.9705 - val_loss: 0.5951 - val_acc: 0.8791\n",
            "Epoch 19/20\n",
            "63/63 [==============================] - 4s 63ms/step - loss: 0.1916 - acc: 0.9724 - val_loss: 0.5665 - val_acc: 0.8802\n",
            "Epoch 20/20\n",
            "63/63 [==============================] - 4s 64ms/step - loss: 0.1885 - acc: 0.9715 - val_loss: 0.5163 - val_acc: 0.8716\n",
            "Test Loss:\n",
            " 0.5249432355165482\n",
            "Test Accuracy:\n",
            " 0.87936250269413\n"
          ],
          "name": "stdout"
        }
      ]
    },
    {
      "cell_type": "code",
      "metadata": {
        "colab": {
          "base_uri": "https://localhost:8080/",
          "height": 206
        },
        "id": "zMLb-mydWqP5",
        "outputId": "7d6203e2-a805-4f4a-95e7-18a7fd7ca3dd"
      },
      "source": [
        "from keras.preprocessing.text import Tokenizer\n",
        "import pandas as pd\n",
        "\n",
        "file_yelp = '/yelp_labelled.txt'\n",
        "\n",
        "df = pd.read_csv(file_yelp, names=['sentence', 'label'], sep='\\t')\n",
        "\n",
        "df.head()"
      ],
      "execution_count": 10,
      "outputs": [
        {
          "output_type": "execute_result",
          "data": {
            "text/html": [
              "<div>\n",
              "<style scoped>\n",
              "    .dataframe tbody tr th:only-of-type {\n",
              "        vertical-align: middle;\n",
              "    }\n",
              "\n",
              "    .dataframe tbody tr th {\n",
              "        vertical-align: top;\n",
              "    }\n",
              "\n",
              "    .dataframe thead th {\n",
              "        text-align: right;\n",
              "    }\n",
              "</style>\n",
              "<table border=\"1\" class=\"dataframe\">\n",
              "  <thead>\n",
              "    <tr style=\"text-align: right;\">\n",
              "      <th></th>\n",
              "      <th>sentence</th>\n",
              "      <th>label</th>\n",
              "    </tr>\n",
              "  </thead>\n",
              "  <tbody>\n",
              "    <tr>\n",
              "      <th>0</th>\n",
              "      <td>Wow... Loved this place.</td>\n",
              "      <td>1</td>\n",
              "    </tr>\n",
              "    <tr>\n",
              "      <th>1</th>\n",
              "      <td>Crust is not good.</td>\n",
              "      <td>0</td>\n",
              "    </tr>\n",
              "    <tr>\n",
              "      <th>2</th>\n",
              "      <td>Not tasty and the texture was just nasty.</td>\n",
              "      <td>0</td>\n",
              "    </tr>\n",
              "    <tr>\n",
              "      <th>3</th>\n",
              "      <td>Stopped by during the late May bank holiday of...</td>\n",
              "      <td>1</td>\n",
              "    </tr>\n",
              "    <tr>\n",
              "      <th>4</th>\n",
              "      <td>The selection on the menu was great and so wer...</td>\n",
              "      <td>1</td>\n",
              "    </tr>\n",
              "  </tbody>\n",
              "</table>\n",
              "</div>"
            ],
            "text/plain": [
              "                                            sentence  label\n",
              "0                           Wow... Loved this place.      1\n",
              "1                                 Crust is not good.      0\n",
              "2          Not tasty and the texture was just nasty.      0\n",
              "3  Stopped by during the late May bank holiday of...      1\n",
              "4  The selection on the menu was great and so wer...      1"
            ]
          },
          "metadata": {
            "tags": []
          },
          "execution_count": 10
        }
      ]
    },
    {
      "cell_type": "code",
      "metadata": {
        "colab": {
          "base_uri": "https://localhost:8080/"
        },
        "id": "ZgBXAsaxmmap",
        "outputId": "32ed465a-68b2-4320-91eb-7e1e91e7a726"
      },
      "source": [
        "X = df['sentence']\n",
        "y = df['label']\n",
        "\n",
        "from sklearn.model_selection import train_test_split\n",
        "\n",
        "sentences_train, sentences_test, y_train, y_test = train_test_split(X, y, test_size=0.3, random_state=42)\n",
        "token = Tokenizer(5000)\n",
        "token.fit_on_texts(sentences_train)\n",
        "\n",
        "X_train = token.texts_to_sequences(sentences_train)\n",
        "X_test = token.texts_to_sequences(sentences_test)\n",
        "\n",
        "print(sentences_train[0])\n",
        "print(X_train[0])\n",
        "print(X.size)"
      ],
      "execution_count": 11,
      "outputs": [
        {
          "output_type": "stream",
          "text": [
            "Wow... Loved this place.\n",
            "[17, 147, 14, 712, 88, 6, 31, 278, 330, 46, 25, 440, 713, 230, 2, 17, 25, 1, 54, 331, 332]\n",
            "1000\n"
          ],
          "name": "stdout"
        }
      ]
    },
    {
      "cell_type": "code",
      "metadata": {
        "colab": {
          "base_uri": "https://localhost:8080/"
        },
        "id": "JHbdQ-cmhZus",
        "outputId": "d96bec52-d746-426c-e13c-79c0a750366c"
      },
      "source": [
        "from tensorflow.keras.layers import Embedding, Conv1D, GlobalMaxPool1D\n",
        "from tensorflow.keras.preprocessing.sequence import pad_sequences\n",
        "\n",
        "maxlen = 100\n",
        "epochs = 20\n",
        "embedding_dim = 50\n",
        "num_filters = 64\n",
        "kernel_size = 5\n",
        "batch_size = 32\n",
        "validation_data = (X_test, y_test)\n",
        "\n",
        "X_train = pad_sequences(X_train, padding='post', maxlen=maxlen)\n",
        "X_test = pad_sequences(X_test, padding='post', maxlen=maxlen)\n",
        "\n",
        "model = models.Sequential()\n",
        "model.add(Embedding(3200, embedding_dim, input_length=100))\n",
        "model.add(Conv1D(num_filters, kernel_size=kernel_size))\n",
        "model.add(GlobalMaxPool1D())\n",
        "model.add(Dense(10, activation='softmax'))\n",
        "model.add(Dense(1, activation='sigmoid'))\n",
        "model.compile(loss='binary_crossentropy', optimizer='adam', metrics=['acc'])\n",
        "model.summary()"
      ],
      "execution_count": 12,
      "outputs": [
        {
          "output_type": "stream",
          "text": [
            "Model: \"sequential_1\"\n",
            "_________________________________________________________________\n",
            "Layer (type)                 Output Shape              Param #   \n",
            "=================================================================\n",
            "embedding (Embedding)        (None, 100, 50)           160000    \n",
            "_________________________________________________________________\n",
            "conv1d (Conv1D)              (None, 96, 64)            16064     \n",
            "_________________________________________________________________\n",
            "global_max_pooling1d (Global (None, 64)                0         \n",
            "_________________________________________________________________\n",
            "dense_4 (Dense)              (None, 10)                650       \n",
            "_________________________________________________________________\n",
            "dense_5 (Dense)              (None, 1)                 11        \n",
            "=================================================================\n",
            "Total params: 176,725\n",
            "Trainable params: 176,725\n",
            "Non-trainable params: 0\n",
            "_________________________________________________________________\n"
          ],
          "name": "stdout"
        }
      ]
    },
    {
      "cell_type": "code",
      "metadata": {
        "colab": {
          "base_uri": "https://localhost:8080/"
        },
        "id": "CSsNf3yCpGuk",
        "outputId": "20bab0c1-a0df-43a6-bd81-a43e81b57ed5"
      },
      "source": [
        "results = model.fit(X_train, y_train, batch_size=batch_size, epochs=epochs, validation_split=0.2, validation_data=validation_data)\n",
        "\n",
        "\n",
        "print('Training Loss:\\n', np.mean(results.history['loss']))\n",
        "print('Training Accuracy:\\n', np.mean(results.history['acc']))\n",
        "print()\n",
        "print('Test Loss:\\n', np.mean(results.history['val_loss']))\n",
        "print('Test Accuracy:\\n', np.mean(results.history['val_acc']))\n"
      ],
      "execution_count": 13,
      "outputs": [
        {
          "output_type": "stream",
          "text": [
            "Epoch 1/20\n",
            "18/18 [==============================] - 1s 31ms/step - loss: 0.6979 - acc: 0.5006 - val_loss: 0.6983 - val_acc: 0.4857\n",
            "Epoch 2/20\n",
            "18/18 [==============================] - 0s 20ms/step - loss: 0.6974 - acc: 0.4754 - val_loss: 0.6951 - val_acc: 0.4857\n",
            "Epoch 3/20\n",
            "18/18 [==============================] - 0s 20ms/step - loss: 0.6863 - acc: 0.5188 - val_loss: 0.6910 - val_acc: 0.5071\n",
            "Epoch 4/20\n",
            "18/18 [==============================] - 0s 20ms/step - loss: 0.6751 - acc: 0.6328 - val_loss: 0.6793 - val_acc: 0.6929\n",
            "Epoch 5/20\n",
            "18/18 [==============================] - 0s 19ms/step - loss: 0.6367 - acc: 0.8925 - val_loss: 0.6520 - val_acc: 0.7071\n",
            "Epoch 6/20\n",
            "18/18 [==============================] - 0s 20ms/step - loss: 0.5581 - acc: 0.9423 - val_loss: 0.6141 - val_acc: 0.7357\n",
            "Epoch 7/20\n",
            "18/18 [==============================] - 0s 18ms/step - loss: 0.4815 - acc: 0.9627 - val_loss: 0.5875 - val_acc: 0.7786\n",
            "Epoch 8/20\n",
            "18/18 [==============================] - 0s 20ms/step - loss: 0.4365 - acc: 0.9881 - val_loss: 0.5676 - val_acc: 0.8000\n",
            "Epoch 9/20\n",
            "18/18 [==============================] - 0s 21ms/step - loss: 0.4119 - acc: 0.9946 - val_loss: 0.5579 - val_acc: 0.8000\n",
            "Epoch 10/20\n",
            "18/18 [==============================] - 0s 19ms/step - loss: 0.3999 - acc: 0.9991 - val_loss: 0.5504 - val_acc: 0.8000\n",
            "Epoch 11/20\n",
            "18/18 [==============================] - 0s 19ms/step - loss: 0.3922 - acc: 0.9940 - val_loss: 0.5460 - val_acc: 0.8071\n",
            "Epoch 12/20\n",
            "18/18 [==============================] - 0s 21ms/step - loss: 0.3801 - acc: 0.9972 - val_loss: 0.5412 - val_acc: 0.8071\n",
            "Epoch 13/20\n",
            "18/18 [==============================] - 0s 19ms/step - loss: 0.3703 - acc: 1.0000 - val_loss: 0.5367 - val_acc: 0.7929\n",
            "Epoch 14/20\n",
            "18/18 [==============================] - 0s 19ms/step - loss: 0.3596 - acc: 1.0000 - val_loss: 0.5327 - val_acc: 0.7929\n",
            "Epoch 15/20\n",
            "18/18 [==============================] - 0s 20ms/step - loss: 0.3563 - acc: 1.0000 - val_loss: 0.5293 - val_acc: 0.8000\n",
            "Epoch 16/20\n",
            "18/18 [==============================] - 0s 19ms/step - loss: 0.3491 - acc: 1.0000 - val_loss: 0.5254 - val_acc: 0.8071\n",
            "Epoch 17/20\n",
            "18/18 [==============================] - 0s 20ms/step - loss: 0.3416 - acc: 1.0000 - val_loss: 0.5227 - val_acc: 0.8000\n",
            "Epoch 18/20\n",
            "18/18 [==============================] - 0s 20ms/step - loss: 0.3366 - acc: 1.0000 - val_loss: 0.5200 - val_acc: 0.7929\n",
            "Epoch 19/20\n",
            "18/18 [==============================] - 0s 20ms/step - loss: 0.3310 - acc: 1.0000 - val_loss: 0.5170 - val_acc: 0.7929\n",
            "Epoch 20/20\n",
            "18/18 [==============================] - 0s 24ms/step - loss: 0.3238 - acc: 1.0000 - val_loss: 0.5146 - val_acc: 0.7929\n",
            "Training Loss:\n",
            " 0.4579693302512169\n",
            "Training Accuracy:\n",
            " 0.9006249994039536\n",
            "\n",
            "Test Loss:\n",
            " 0.5789273738861084\n",
            "Test Accuracy:\n",
            " 0.7389285773038864\n"
          ],
          "name": "stdout"
        }
      ]
    }
  ]
}