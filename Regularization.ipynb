{
  "nbformat": 4,
  "nbformat_minor": 0,
  "metadata": {
    "colab": {
      "name": "Regularization.ipynb",
      "provenance": [],
      "authorship_tag": "ABX9TyO0Zva6QVyOb0X3OTb+BbwD",
      "include_colab_link": true
    },
    "kernelspec": {
      "name": "python3",
      "display_name": "Python 3"
    }
  },
  "cells": [
    {
      "cell_type": "markdown",
      "metadata": {
        "id": "view-in-github",
        "colab_type": "text"
      },
      "source": [
        "<a href=\"https://colab.research.google.com/github/deshanahan/DATA-602-Homework/blob/main/Regularization.ipynb\" target=\"_parent\"><img src=\"https://colab.research.google.com/assets/colab-badge.svg\" alt=\"Open In Colab\"/></a>"
      ]
    },
    {
      "cell_type": "code",
      "metadata": {
        "id": "_MOJBtWP69mO"
      },
      "source": [
        "import pandas as pd\r\n",
        "import matplotlib.pyplot as plt\r\n",
        "matplotlib.rcParams.update({'font.size': 12})\r\n",
        "from sklearn.datasets import load_boston\r\n",
        "from sklearn.model_selection import train_test_split\r\n",
        "from sklearn.linear_model import LinearRegression\r\n",
        "from sklearn.linear_model import Ridge"
      ],
      "execution_count": 11,
      "outputs": []
    },
    {
      "cell_type": "code",
      "metadata": {
        "colab": {
          "base_uri": "https://localhost:8080/"
        },
        "id": "gFbwDzZ5-sUY",
        "outputId": "5fb4946b-5982-4efa-83a6-9253a094ecef"
      },
      "source": [
        "boston = load_boston()\r\n",
        "boston_df = pd.DataFrame(boston.data, columns=boston.feature_names)\r\n",
        "boston_df['Price'] = boston.target\r\n",
        "newX = boston_df.drop('Price', axis = 1)\r\n",
        "print(newX[0:3])\r\n",
        "newY = boston_df['Price']\r\n",
        "print(type(newY))"
      ],
      "execution_count": 8,
      "outputs": [
        {
          "output_type": "stream",
          "text": [
            "      CRIM    ZN  INDUS  CHAS    NOX  ...  RAD    TAX  PTRATIO       B  LSTAT\n",
            "0  0.00632  18.0   2.31   0.0  0.538  ...  1.0  296.0     15.3  396.90   4.98\n",
            "1  0.02731   0.0   7.07   0.0  0.469  ...  2.0  242.0     17.8  396.90   9.14\n",
            "2  0.02729   0.0   7.07   0.0  0.469  ...  2.0  242.0     17.8  392.83   4.03\n",
            "\n",
            "[3 rows x 13 columns]\n",
            "<class 'pandas.core.series.Series'>\n"
          ],
          "name": "stdout"
        }
      ]
    },
    {
      "cell_type": "code",
      "metadata": {
        "colab": {
          "base_uri": "https://localhost:8080/"
        },
        "id": "5fX_5z8o_vXU",
        "outputId": "36501385-6312-4998-ef93-6e6932535b08"
      },
      "source": [
        "X_train, X_test, y_train, y_test = train_test_split(newX, newY, test_size = 0.3, random_state = 42)\r\n",
        "lr = LinearRegression()\r\n",
        "rr = Ridge(alpha = 0.01)\r\n",
        "rr100 = Ridge(alpha = 100)\r\n",
        "lr.fit(X_train, y_train)\r\n",
        "rr.fit(X_train, y_train)\r\n",
        "rr100.fit(X_train, y_train)"
      ],
      "execution_count": 9,
      "outputs": [
        {
          "output_type": "execute_result",
          "data": {
            "text/plain": [
              "Ridge(alpha=100, copy_X=True, fit_intercept=True, max_iter=None,\n",
              "      normalize=False, random_state=None, solver='auto', tol=0.001)"
            ]
          },
          "metadata": {
            "tags": []
          },
          "execution_count": 9
        }
      ]
    },
    {
      "cell_type": "markdown",
      "metadata": {
        "id": "LGn-N_DII6VO"
      },
      "source": [
        "The Ridge model with an alpha of 0.01 performed better than the Ridge model with an alpha of 100.  Linear Regression performed about the same as the Ridge model with an alpha of 0.01."
      ]
    },
    {
      "cell_type": "code",
      "metadata": {
        "colab": {
          "base_uri": "https://localhost:8080/"
        },
        "id": "xgj-Wy40FX-O",
        "outputId": "3797fc89-91f4-4a88-a538-1ad7e194edad"
      },
      "source": [
        "lr_train_score = lr.score(X_train, y_train)\r\n",
        "lr_test_score = lr.score(X_test, y_test)\r\n",
        "Ridge_train_score = rr.score(X_train, y_train)\r\n",
        "Ridge_test_score = rr.score(X_test, y_test)\r\n",
        "Ridge_train_score100 = rr100.score(X_train, y_train)\r\n",
        "Ridge_test_score100 = rr100.score(X_test, y_test)\r\n",
        "print(f'Linear Regression: \\n train score = {lr_train_score}\\n test score = {lr_test_score}\\n')\r\n",
        "print(f'Ridge Regression alpha 0.01: \\n train score = {Ridge_train_score}\\n test score = {Ridge_test_score}\\n')\r\n",
        "print(f'Ridge Regression alpha 100: \\n train score = {Ridge_train_score100}\\n test score = {Ridge_test_score100}\\n')"
      ],
      "execution_count": 10,
      "outputs": [
        {
          "output_type": "stream",
          "text": [
            "Linear Regression: \n",
            " train score = 0.7434997532004697\n",
            " test score = 0.7112260057484874\n",
            "\n",
            "Ridge Regression alpha 0.01: \n",
            " train score = 0.7434990281567369\n",
            " test score = 0.7111351633163312\n",
            "\n",
            "Ridge Regression alpha 100: \n",
            " train score = 0.7175181067437365\n",
            " test score = 0.6850436955094981\n",
            "\n"
          ],
          "name": "stdout"
        }
      ]
    },
    {
      "cell_type": "markdown",
      "metadata": {
        "id": "5bRMWjfsOg0r"
      },
      "source": [
        "The coefficients of the Ridge Regression model with an alpha of  0.01 and Linear Regression are identical on the graph. "
      ]
    },
    {
      "cell_type": "code",
      "metadata": {
        "colab": {
          "base_uri": "https://localhost:8080/",
          "height": 290
        },
        "id": "_uNf-PeTLVZf",
        "outputId": "a42be037-b475-42d8-c361-b903eb37e985"
      },
      "source": [
        "plt.plot(rr.coef_, label = 'Ridge alpha 0.01')\r\n",
        "plt.plot(rr100.coef_, label = 'Ridge alpha 100')\r\n",
        "plt.plot(lr.coef_, label = 'Linear Regression')\r\n",
        "plt.xlabel('Coefficient Index')\r\n",
        "plt.ylabel('Coefficient Magnitude')\r\n",
        "plt.legend()\r\n",
        "plt.show()"
      ],
      "execution_count": 18,
      "outputs": [
        {
          "output_type": "display_data",
          "data": {
            "image/png": "[encoded data removed]",
            "text/plain": [
              "<Figure size 432x288 with 1 Axes>"
            ]
          },
          "metadata": {
            "tags": [],
            "needs_background": "light"
          }
        }
      ]
    }
  ]
}