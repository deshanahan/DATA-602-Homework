{
  "nbformat": 4,
  "nbformat_minor": 0,
  "metadata": {
    "colab": {
      "name": "RandomForest_GradientBoosting.ipynb",
      "provenance": [],
      "authorship_tag": "ABX9TyNvP+VztP5fZsFQJpxCSH9s",
      "include_colab_link": true
    },
    "kernelspec": {
      "name": "python3",
      "display_name": "Python 3"
    },
    "language_info": {
      "name": "python"
    }
  },
  "cells": [
    {
      "cell_type": "markdown",
      "metadata": {
        "id": "view-in-github",
        "colab_type": "text"
      },
      "source": [
        "<a href=\"https://colab.research.google.com/github/deshanahan/DATA-602-Homework/blob/main/RandomForest_GradientBoosting.ipynb\" target=\"_parent\"><img src=\"https://colab.research.google.com/assets/colab-badge.svg\" alt=\"Open In Colab\"/></a>"
      ]
    },
    {
      "cell_type": "code",
      "metadata": {
        "id": "_zuuh9O_PnUz"
      },
      "source": [
        "from sklearn.datasets import load_iris\n",
        "import pandas as pd\n",
        "iris = load_iris()"
      ],
      "execution_count": 4,
      "outputs": []
    },
    {
      "cell_type": "code",
      "metadata": {
        "colab": {
          "base_uri": "https://localhost:8080/"
        },
        "id": "wOlo1OQ4SpQ5",
        "outputId": "8b2aed5c-9a8a-4df2-8e94-de5ab1bb976d"
      },
      "source": [
        "feature_names = iris.feature_names\n",
        "target_names = iris.target_names\n",
        "print(f'Feature Names:\\n{feature_names}')\n",
        "print(f'Target Names:\\n{target_names}')"
      ],
      "execution_count": 9,
      "outputs": [
        {
          "output_type": "stream",
          "text": [
            "Feature Names:\n",
            "['sepal length (cm)', 'sepal width (cm)', 'petal length (cm)', 'petal width (cm)']\n",
            "Target Names:\n",
            "['setosa' 'versicolor' 'virginica']\n"
          ],
          "name": "stdout"
        }
      ]
    },
    {
      "cell_type": "code",
      "metadata": {
        "colab": {
          "base_uri": "https://localhost:8080/",
          "height": 223
        },
        "id": "IKsFEw0YU3CE",
        "outputId": "2423dfdb-b53d-4f75-d68e-1b4e1b559ace"
      },
      "source": [
        "iris_df = pd.DataFrame(iris.data, columns=feature_names)\n",
        "iris_df.head(5)"
      ],
      "execution_count": 8,
      "outputs": [
        {
          "output_type": "execute_result",
          "data": {
            "text/html": [
              "<div>\n",
              "<style scoped>\n",
              "    .dataframe tbody tr th:only-of-type {\n",
              "        vertical-align: middle;\n",
              "    }\n",
              "\n",
              "    .dataframe tbody tr th {\n",
              "        vertical-align: top;\n",
              "    }\n",
              "\n",
              "    .dataframe thead th {\n",
              "        text-align: right;\n",
              "    }\n",
              "</style>\n",
              "<table border=\"1\" class=\"dataframe\">\n",
              "  <thead>\n",
              "    <tr style=\"text-align: right;\">\n",
              "      <th></th>\n",
              "      <th>sepal length (cm)</th>\n",
              "      <th>sepal width (cm)</th>\n",
              "      <th>petal length (cm)</th>\n",
              "      <th>petal width (cm)</th>\n",
              "    </tr>\n",
              "  </thead>\n",
              "  <tbody>\n",
              "    <tr>\n",
              "      <th>0</th>\n",
              "      <td>5.1</td>\n",
              "      <td>3.5</td>\n",
              "      <td>1.4</td>\n",
              "      <td>0.2</td>\n",
              "    </tr>\n",
              "    <tr>\n",
              "      <th>1</th>\n",
              "      <td>4.9</td>\n",
              "      <td>3.0</td>\n",
              "      <td>1.4</td>\n",
              "      <td>0.2</td>\n",
              "    </tr>\n",
              "    <tr>\n",
              "      <th>2</th>\n",
              "      <td>4.7</td>\n",
              "      <td>3.2</td>\n",
              "      <td>1.3</td>\n",
              "      <td>0.2</td>\n",
              "    </tr>\n",
              "    <tr>\n",
              "      <th>3</th>\n",
              "      <td>4.6</td>\n",
              "      <td>3.1</td>\n",
              "      <td>1.5</td>\n",
              "      <td>0.2</td>\n",
              "    </tr>\n",
              "    <tr>\n",
              "      <th>4</th>\n",
              "      <td>5.0</td>\n",
              "      <td>3.6</td>\n",
              "      <td>1.4</td>\n",
              "      <td>0.2</td>\n",
              "    </tr>\n",
              "  </tbody>\n",
              "</table>\n",
              "</div>"
            ],
            "text/plain": [
              "   sepal length (cm)  sepal width (cm)  petal length (cm)  petal width (cm)\n",
              "0                5.1               3.5                1.4               0.2\n",
              "1                4.9               3.0                1.4               0.2\n",
              "2                4.7               3.2                1.3               0.2\n",
              "3                4.6               3.1                1.5               0.2\n",
              "4                5.0               3.6                1.4               0.2"
            ]
          },
          "metadata": {
            "tags": []
          },
          "execution_count": 8
        }
      ]
    },
    {
      "cell_type": "code",
      "metadata": {
        "id": "InH0ONN4WP8d"
      },
      "source": [
        "from sklearn.model_selection import train_test_split\n",
        "X = iris_df\n",
        "y = pd.DataFrame(iris.target)\n",
        "\n",
        "\n",
        "X_train, X_test, y_train, y_test = train_test_split(X, y, test_size = 0.3, stratify = y, random_state = 42)\n"
      ],
      "execution_count": 19,
      "outputs": []
    },
    {
      "cell_type": "markdown",
      "metadata": {
        "id": "RUvggY4YoBmN"
      },
      "source": [
        "The most important feature is the last feature, which is petal width.  The accuracy of the model is fairly high at 91%."
      ]
    },
    {
      "cell_type": "code",
      "metadata": {
        "colab": {
          "base_uri": "https://localhost:8080/"
        },
        "id": "sBKViGttcyje",
        "outputId": "c03061a5-bd8e-4869-c6ea-dcb2d31757fb"
      },
      "source": [
        "from sklearn.ensemble import RandomForestClassifier\n",
        "clf = RandomForestClassifier(n_estimators=2000, max_depth=2)\n",
        "\n",
        "clf_train = clf.fit(X_train, y_train)\n",
        "\n",
        "importance = clf_train.feature_importances_\n",
        "print(f'Feature Importance:\\n{importance}')\n",
        "from sklearn.metrics import accuracy_score\n",
        "yhat = clf.predict(X_test)\n",
        "accuracy = accuracy_score(y_test, yhat)\n",
        "print('Accuracy Score:\\n %.2f' % accuracy)"
      ],
      "execution_count": 31,
      "outputs": [
        {
          "output_type": "stream",
          "text": [
            "/usr/local/lib/python3.7/dist-packages/ipykernel_launcher.py:4: DataConversionWarning: A column-vector y was passed when a 1d array was expected. Please change the shape of y to (n_samples,), for example using ravel().\n",
            "  after removing the cwd from sys.path.\n"
          ],
          "name": "stderr"
        },
        {
          "output_type": "stream",
          "text": [
            "Feature Importance:\n",
            "[0.11837187 0.00829289 0.4240941  0.44924114]\n",
            "Accuracy Score:\n",
            " 0.91\n"
          ],
          "name": "stdout"
        }
      ]
    },
    {
      "cell_type": "markdown",
      "metadata": {
        "id": "WerPeaoopKQi"
      },
      "source": [
        "Based on accuracy score, the gradient boosting model performed slightly better than the random forest model.  I would have some reservations about potential overfitting because gradient boosting tries to minimize the error at all costs and there is a sizable importance placed on petal width, which may skew the results too much because the random forest model had petal length a very close second to petal width in feature importance. "
      ]
    },
    {
      "cell_type": "code",
      "metadata": {
        "colab": {
          "base_uri": "https://localhost:8080/"
        },
        "id": "8imRmIUCj_qd",
        "outputId": "2e023b6b-9cf8-489c-b1a8-82ded660e214"
      },
      "source": [
        "from sklearn.ensemble import GradientBoostingClassifier\n",
        "gradboost_clf = GradientBoostingClassifier(n_estimators=2000, max_depth=2)\n",
        "gradboost_clf_train = gradboost_clf.fit(X_train, y_train)\n",
        "yhat = gradboost_clf.predict(X_test)\n",
        "gradboost_accuracy = accuracy_score(y_test, yhat)\n",
        "print('Accuracy Score:\\n %.2f' % gradboost_accuracy)\n",
        "gradboost_importance = gradboost_clf_train.feature_importances_\n",
        "print(f'Feature Importance:\\n{gradboost_importance}')"
      ],
      "execution_count": 32,
      "outputs": [
        {
          "output_type": "stream",
          "text": [
            "/usr/local/lib/python3.7/dist-packages/sklearn/ensemble/_gb.py:1454: DataConversionWarning: A column-vector y was passed when a 1d array was expected. Please change the shape of y to (n_samples, ), for example using ravel().\n",
            "  y = column_or_1d(y, warn=True)\n"
          ],
          "name": "stderr"
        },
        {
          "output_type": "stream",
          "text": [
            "Accuracy Score:\n",
            " 0.93\n",
            "Feature Importance:\n",
            "[0.00542033 0.00807748 0.35087325 0.63562895]\n"
          ],
          "name": "stdout"
        }
      ]
    }
  ]
}