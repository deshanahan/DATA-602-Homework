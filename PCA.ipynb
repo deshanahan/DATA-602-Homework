{
  "nbformat": 4,
  "nbformat_minor": 0,
  "metadata": {
    "colab": {
      "name": "PCA.ipynb",
      "provenance": [],
      "collapsed_sections": [],
      "authorship_tag": "ABX9TyMB0zFQjDiFunOpeFDE7qRa",
      "include_colab_link": true
    },
    "kernelspec": {
      "name": "python3",
      "display_name": "Python 3"
    },
    "language_info": {
      "name": "python"
    }
  },
  "cells": [
    {
      "cell_type": "markdown",
      "metadata": {
        "id": "view-in-github",
        "colab_type": "text"
      },
      "source": [
        "<a href=\"https://colab.research.google.com/github/deshanahan/DATA-602-Homework/blob/main/PCA.ipynb\" target=\"_parent\"><img src=\"https://colab.research.google.com/assets/colab-badge.svg\" alt=\"Open In Colab\"/></a>"
      ]
    },
    {
      "cell_type": "code",
      "metadata": {
        "colab": {
          "base_uri": "https://localhost:8080/"
        },
        "id": "asJyqx0txxI-",
        "outputId": "2a38c14c-f5d2-4187-c016-8fa5e725bf9d"
      },
      "source": [
        "import pandas as pd\n",
        "import numpy as np\n",
        "from sklearn.datasets import load_wine\n",
        "\n",
        "wine = load_wine()\n",
        "\n",
        "print('Feature Names:\\n')\n",
        "for feature in wine.feature_names:\n",
        "  print(feature)"
      ],
      "execution_count": 1,
      "outputs": [
        {
          "output_type": "stream",
          "text": [
            "Feature Names:\n",
            "\n",
            "alcohol\n",
            "malic_acid\n",
            "ash\n",
            "alcalinity_of_ash\n",
            "magnesium\n",
            "total_phenols\n",
            "flavanoids\n",
            "nonflavanoid_phenols\n",
            "proanthocyanins\n",
            "color_intensity\n",
            "hue\n",
            "od280/od315_of_diluted_wines\n",
            "proline\n"
          ],
          "name": "stdout"
        }
      ]
    },
    {
      "cell_type": "code",
      "metadata": {
        "colab": {
          "base_uri": "https://localhost:8080/",
          "height": 244
        },
        "id": "rDdlvlLP7AZc",
        "outputId": "6c701922-6e79-44e3-849a-cf980e23b9d5"
      },
      "source": [
        "data = wine.data\n",
        "features = wine.feature_names\n",
        "target = wine.target\n",
        "target_names = wine.target_names\n",
        "X = pd.DataFrame(data, columns=features)\n",
        "y = pd.Categorical.from_codes(target, target_names)\n",
        "print(X.shape)\n",
        "X.head(5)"
      ],
      "execution_count": 2,
      "outputs": [
        {
          "output_type": "stream",
          "text": [
            "(178, 13)\n"
          ],
          "name": "stdout"
        },
        {
          "output_type": "execute_result",
          "data": {
            "text/html": [
              "<div>\n",
              "<style scoped>\n",
              "    .dataframe tbody tr th:only-of-type {\n",
              "        vertical-align: middle;\n",
              "    }\n",
              "\n",
              "    .dataframe tbody tr th {\n",
              "        vertical-align: top;\n",
              "    }\n",
              "\n",
              "    .dataframe thead th {\n",
              "        text-align: right;\n",
              "    }\n",
              "</style>\n",
              "<table border=\"1\" class=\"dataframe\">\n",
              "  <thead>\n",
              "    <tr style=\"text-align: right;\">\n",
              "      <th></th>\n",
              "      <th>alcohol</th>\n",
              "      <th>malic_acid</th>\n",
              "      <th>ash</th>\n",
              "      <th>alcalinity_of_ash</th>\n",
              "      <th>magnesium</th>\n",
              "      <th>total_phenols</th>\n",
              "      <th>flavanoids</th>\n",
              "      <th>nonflavanoid_phenols</th>\n",
              "      <th>proanthocyanins</th>\n",
              "      <th>color_intensity</th>\n",
              "      <th>hue</th>\n",
              "      <th>od280/od315_of_diluted_wines</th>\n",
              "      <th>proline</th>\n",
              "    </tr>\n",
              "  </thead>\n",
              "  <tbody>\n",
              "    <tr>\n",
              "      <th>0</th>\n",
              "      <td>14.23</td>\n",
              "      <td>1.71</td>\n",
              "      <td>2.43</td>\n",
              "      <td>15.6</td>\n",
              "      <td>127.0</td>\n",
              "      <td>2.80</td>\n",
              "      <td>3.06</td>\n",
              "      <td>0.28</td>\n",
              "      <td>2.29</td>\n",
              "      <td>5.64</td>\n",
              "      <td>1.04</td>\n",
              "      <td>3.92</td>\n",
              "      <td>1065.0</td>\n",
              "    </tr>\n",
              "    <tr>\n",
              "      <th>1</th>\n",
              "      <td>13.20</td>\n",
              "      <td>1.78</td>\n",
              "      <td>2.14</td>\n",
              "      <td>11.2</td>\n",
              "      <td>100.0</td>\n",
              "      <td>2.65</td>\n",
              "      <td>2.76</td>\n",
              "      <td>0.26</td>\n",
              "      <td>1.28</td>\n",
              "      <td>4.38</td>\n",
              "      <td>1.05</td>\n",
              "      <td>3.40</td>\n",
              "      <td>1050.0</td>\n",
              "    </tr>\n",
              "    <tr>\n",
              "      <th>2</th>\n",
              "      <td>13.16</td>\n",
              "      <td>2.36</td>\n",
              "      <td>2.67</td>\n",
              "      <td>18.6</td>\n",
              "      <td>101.0</td>\n",
              "      <td>2.80</td>\n",
              "      <td>3.24</td>\n",
              "      <td>0.30</td>\n",
              "      <td>2.81</td>\n",
              "      <td>5.68</td>\n",
              "      <td>1.03</td>\n",
              "      <td>3.17</td>\n",
              "      <td>1185.0</td>\n",
              "    </tr>\n",
              "    <tr>\n",
              "      <th>3</th>\n",
              "      <td>14.37</td>\n",
              "      <td>1.95</td>\n",
              "      <td>2.50</td>\n",
              "      <td>16.8</td>\n",
              "      <td>113.0</td>\n",
              "      <td>3.85</td>\n",
              "      <td>3.49</td>\n",
              "      <td>0.24</td>\n",
              "      <td>2.18</td>\n",
              "      <td>7.80</td>\n",
              "      <td>0.86</td>\n",
              "      <td>3.45</td>\n",
              "      <td>1480.0</td>\n",
              "    </tr>\n",
              "    <tr>\n",
              "      <th>4</th>\n",
              "      <td>13.24</td>\n",
              "      <td>2.59</td>\n",
              "      <td>2.87</td>\n",
              "      <td>21.0</td>\n",
              "      <td>118.0</td>\n",
              "      <td>2.80</td>\n",
              "      <td>2.69</td>\n",
              "      <td>0.39</td>\n",
              "      <td>1.82</td>\n",
              "      <td>4.32</td>\n",
              "      <td>1.04</td>\n",
              "      <td>2.93</td>\n",
              "      <td>735.0</td>\n",
              "    </tr>\n",
              "  </tbody>\n",
              "</table>\n",
              "</div>"
            ],
            "text/plain": [
              "   alcohol  malic_acid   ash  ...   hue  od280/od315_of_diluted_wines  proline\n",
              "0    14.23        1.71  2.43  ...  1.04                          3.92   1065.0\n",
              "1    13.20        1.78  2.14  ...  1.05                          3.40   1050.0\n",
              "2    13.16        2.36  2.67  ...  1.03                          3.17   1185.0\n",
              "3    14.37        1.95  2.50  ...  0.86                          3.45   1480.0\n",
              "4    13.24        2.59  2.87  ...  1.04                          2.93    735.0\n",
              "\n",
              "[5 rows x 13 columns]"
            ]
          },
          "metadata": {
            "tags": []
          },
          "execution_count": 2
        }
      ]
    },
    {
      "cell_type": "code",
      "metadata": {
        "colab": {
          "base_uri": "https://localhost:8080/",
          "height": 457
        },
        "id": "MqZisQQjsS9D",
        "outputId": "7248e7e6-7aca-45cb-cda2-fb13827002c6"
      },
      "source": [
        "wine_df = X.join(pd.Series(y, name='class'))\n",
        "class_feature_means = pd.DataFrame(columns=target_names)\n",
        "for c, rows in wine_df.groupby('class'):\n",
        "  class_feature_means[c] = rows.mean()\n",
        "class_feature_means"
      ],
      "execution_count": 3,
      "outputs": [
        {
          "output_type": "execute_result",
          "data": {
            "text/html": [
              "<div>\n",
              "<style scoped>\n",
              "    .dataframe tbody tr th:only-of-type {\n",
              "        vertical-align: middle;\n",
              "    }\n",
              "\n",
              "    .dataframe tbody tr th {\n",
              "        vertical-align: top;\n",
              "    }\n",
              "\n",
              "    .dataframe thead th {\n",
              "        text-align: right;\n",
              "    }\n",
              "</style>\n",
              "<table border=\"1\" class=\"dataframe\">\n",
              "  <thead>\n",
              "    <tr style=\"text-align: right;\">\n",
              "      <th></th>\n",
              "      <th>class_0</th>\n",
              "      <th>class_1</th>\n",
              "      <th>class_2</th>\n",
              "    </tr>\n",
              "  </thead>\n",
              "  <tbody>\n",
              "    <tr>\n",
              "      <th>alcohol</th>\n",
              "      <td>13.744746</td>\n",
              "      <td>12.278732</td>\n",
              "      <td>13.153750</td>\n",
              "    </tr>\n",
              "    <tr>\n",
              "      <th>malic_acid</th>\n",
              "      <td>2.010678</td>\n",
              "      <td>1.932676</td>\n",
              "      <td>3.333750</td>\n",
              "    </tr>\n",
              "    <tr>\n",
              "      <th>ash</th>\n",
              "      <td>2.455593</td>\n",
              "      <td>2.244789</td>\n",
              "      <td>2.437083</td>\n",
              "    </tr>\n",
              "    <tr>\n",
              "      <th>alcalinity_of_ash</th>\n",
              "      <td>17.037288</td>\n",
              "      <td>20.238028</td>\n",
              "      <td>21.416667</td>\n",
              "    </tr>\n",
              "    <tr>\n",
              "      <th>magnesium</th>\n",
              "      <td>106.338983</td>\n",
              "      <td>94.549296</td>\n",
              "      <td>99.312500</td>\n",
              "    </tr>\n",
              "    <tr>\n",
              "      <th>total_phenols</th>\n",
              "      <td>2.840169</td>\n",
              "      <td>2.258873</td>\n",
              "      <td>1.678750</td>\n",
              "    </tr>\n",
              "    <tr>\n",
              "      <th>flavanoids</th>\n",
              "      <td>2.982373</td>\n",
              "      <td>2.080845</td>\n",
              "      <td>0.781458</td>\n",
              "    </tr>\n",
              "    <tr>\n",
              "      <th>nonflavanoid_phenols</th>\n",
              "      <td>0.290000</td>\n",
              "      <td>0.363662</td>\n",
              "      <td>0.447500</td>\n",
              "    </tr>\n",
              "    <tr>\n",
              "      <th>proanthocyanins</th>\n",
              "      <td>1.899322</td>\n",
              "      <td>1.630282</td>\n",
              "      <td>1.153542</td>\n",
              "    </tr>\n",
              "    <tr>\n",
              "      <th>color_intensity</th>\n",
              "      <td>5.528305</td>\n",
              "      <td>3.086620</td>\n",
              "      <td>7.396250</td>\n",
              "    </tr>\n",
              "    <tr>\n",
              "      <th>hue</th>\n",
              "      <td>1.062034</td>\n",
              "      <td>1.056282</td>\n",
              "      <td>0.682708</td>\n",
              "    </tr>\n",
              "    <tr>\n",
              "      <th>od280/od315_of_diluted_wines</th>\n",
              "      <td>3.157797</td>\n",
              "      <td>2.785352</td>\n",
              "      <td>1.683542</td>\n",
              "    </tr>\n",
              "    <tr>\n",
              "      <th>proline</th>\n",
              "      <td>1115.711864</td>\n",
              "      <td>519.507042</td>\n",
              "      <td>629.895833</td>\n",
              "    </tr>\n",
              "  </tbody>\n",
              "</table>\n",
              "</div>"
            ],
            "text/plain": [
              "                                  class_0     class_1     class_2\n",
              "alcohol                         13.744746   12.278732   13.153750\n",
              "malic_acid                       2.010678    1.932676    3.333750\n",
              "ash                              2.455593    2.244789    2.437083\n",
              "alcalinity_of_ash               17.037288   20.238028   21.416667\n",
              "magnesium                      106.338983   94.549296   99.312500\n",
              "total_phenols                    2.840169    2.258873    1.678750\n",
              "flavanoids                       2.982373    2.080845    0.781458\n",
              "nonflavanoid_phenols             0.290000    0.363662    0.447500\n",
              "proanthocyanins                  1.899322    1.630282    1.153542\n",
              "color_intensity                  5.528305    3.086620    7.396250\n",
              "hue                              1.062034    1.056282    0.682708\n",
              "od280/od315_of_diluted_wines     3.157797    2.785352    1.683542\n",
              "proline                       1115.711864  519.507042  629.895833"
            ]
          },
          "metadata": {
            "tags": []
          },
          "execution_count": 3
        }
      ]
    },
    {
      "cell_type": "code",
      "metadata": {
        "id": "xxqc4I-O8I0A"
      },
      "source": [
        "from sklearn.model_selection import train_test_split\n",
        "\n",
        "X_train, X_test, y_train, y_test = train_test_split(X, y, test_size = 0.3, stratify = y, random_state = 42)"
      ],
      "execution_count": 4,
      "outputs": []
    },
    {
      "cell_type": "code",
      "metadata": {
        "id": "uVGFO6QNARMo"
      },
      "source": [
        "from sklearn.preprocessing import StandardScaler\n",
        "scaler = StandardScaler()\n",
        "scaler.fit(X_train)\n",
        "X_train = scaler.transform(X_train)\n",
        "X_test = scaler.transform(X_test)"
      ],
      "execution_count": 5,
      "outputs": []
    },
    {
      "cell_type": "code",
      "metadata": {
        "colab": {
          "base_uri": "https://localhost:8080/"
        },
        "id": "WY3xxLARTJim",
        "outputId": "4c06e4fa-2205-4e89-abc9-d617d683486a"
      },
      "source": [
        "cov_mat = np.cov(X_train.T)\n",
        "values, vectors = np.linalg.eig(cov_mat)\n",
        "\n",
        "print('Eigenvalues:')\n",
        "for value in values:\n",
        "  print(value)"
      ],
      "execution_count": 6,
      "outputs": [
        {
          "output_type": "stream",
          "text": [
            "Eigenvalues:\n",
            "4.682722770472998\n",
            "2.517493700893584\n",
            "1.4425112439605576\n",
            "0.9502568705615341\n",
            "0.9138815593826501\n",
            "0.7000276683878084\n",
            "0.5969680163040222\n",
            "0.0954481565439253\n",
            "0.14241154031474426\n",
            "0.31659154675215184\n",
            "0.22087117162328035\n",
            "0.2674107558413066\n",
            "0.2590960558720119\n"
          ],
          "name": "stdout"
        }
      ]
    },
    {
      "cell_type": "code",
      "metadata": {
        "colab": {
          "base_uri": "https://localhost:8080/"
        },
        "id": "RfgFnLtUhDHo",
        "outputId": "eef42e96-5446-45b4-ba30-695d7d5764d3"
      },
      "source": [
        "from sklearn.decomposition import PCA\n",
        "pca = PCA()\n",
        "pca.fit(X_train)\n",
        "individual_explained_variance  = pca.explained_variance_ratio_\n",
        "\n",
        "\n",
        "print(f'individual explained variances:\\n{individual_explained_variance}\\n')\n",
        "cumulative_explained_variance = np.cumsum(individual_explained_variance)\n",
        "print(f'cumulative explained variance:\\n{cumulative_explained_variance}')"
      ],
      "execution_count": 7,
      "outputs": [
        {
          "output_type": "stream",
          "text": [
            "individual explained variances:\n",
            "[0.35730453 0.19209164 0.11006755 0.07250719 0.06973166 0.05341402\n",
            " 0.04555029 0.0241568  0.02040417 0.01976974 0.01685307 0.01086639\n",
            " 0.00728295]\n",
            "\n",
            "cumulative explained variance:\n",
            "[0.35730453 0.54939617 0.65946372 0.73197091 0.80170257 0.85511659\n",
            " 0.90066688 0.92482368 0.94522785 0.96499758 0.98185066 0.99271705\n",
            " 1.        ]\n"
          ],
          "name": "stdout"
        }
      ]
    },
    {
      "cell_type": "markdown",
      "metadata": {
        "id": "Q1aHdKjW0K-R"
      },
      "source": [
        "The plot shows that over 50% of the variance can be explained by the first two eigenvalues and over 90% of the variance is explained by the first 7 eigenvalues."
      ]
    },
    {
      "cell_type": "code",
      "metadata": {
        "colab": {
          "base_uri": "https://localhost:8080/",
          "height": 284
        },
        "id": "-zQZFetvxvHK",
        "outputId": "2082b62d-d727-4760-f0a5-3800de5678a1"
      },
      "source": [
        "from matplotlib.pyplot import step as splt\n",
        "splt(individual_explained_variance, cumulative_explained_variance)"
      ],
      "execution_count": 8,
      "outputs": [
        {
          "output_type": "execute_result",
          "data": {
            "text/plain": [
              "[<matplotlib.lines.Line2D at 0x7f34dd9da850>]"
            ]
          },
          "metadata": {
            "tags": []
          },
          "execution_count": 8
        },
        {
          "output_type": "display_data",
          "data": {
            "image/png": "[encoded data removed]",
            "text/plain": [
              "<Figure size 432x288 with 1 Axes>"
            ]
          },
          "metadata": {
            "tags": [],
            "needs_background": "light"
          }
        }
      ]
    },
    {
      "cell_type": "code",
      "metadata": {
        "colab": {
          "base_uri": "https://localhost:8080/"
        },
        "id": "n4X48V230FrF",
        "outputId": "bb68aae1-72ba-4b0b-e72d-53536003a5aa"
      },
      "source": [
        "print(vectors)\n",
        "pairs = [(np.abs(values[i]), vectors[:,i]) for i in range(len(values))]\n",
        "pairs = sorted(pairs, key=lambda tup: tup[0], reverse=True)\n",
        "print(pairs)"
      ],
      "execution_count": 12,
      "outputs": [
        {
          "output_type": "stream",
          "text": [
            "[[ 0.15763477 -0.49414675 -0.13550025  0.22002101  0.1001375  -0.20436914\n",
            "  -0.00578955 -0.04666841  0.29868842 -0.56269774 -0.17889091 -0.38924236\n",
            "  -0.14436028]\n",
            " [-0.25237011 -0.1670862   0.08484512 -0.34863385  0.51191077 -0.36452972\n",
            "  -0.51124855 -0.03381991 -0.22155089 -0.06054546  0.17580919  0.11403549\n",
            "  -0.15978215]\n",
            " [-0.01662626 -0.33581955  0.61436922  0.21029079 -0.10967198 -0.18888033\n",
            "   0.0707048  -0.17376559 -0.02928534  0.18377711 -0.44222618  0.37290998\n",
            "  -0.11455204]\n",
            " [-0.23514225  0.0230456   0.62199483 -0.11850515 -0.01880619 -0.03226373\n",
            "   0.34711322  0.16492916  0.04198251 -0.3281213   0.44478733 -0.19926928\n",
            "   0.21726025]\n",
            " [ 0.14285062 -0.2816766   0.08744449 -0.54616385 -0.60714326 -0.03967105\n",
            "  -0.24673831  0.08350982 -0.03735091  0.19114731 -0.02153713 -0.33780751\n",
            "  -0.06123678]\n",
            " [ 0.38989121 -0.07164769  0.18025489  0.01134185  0.28882326  0.11967975\n",
            "   0.07105096 -0.43422256  0.29276883  0.41903011  0.3903896  -0.21570778\n",
            "  -0.24219349]\n",
            " [ 0.42596901 -0.00569565  0.1288233   0.01728643  0.23108185 -0.00397984\n",
            "   0.02472872  0.81736173  0.04891097  0.12337408 -0.02987373  0.06873651\n",
            "  -0.23724826]\n",
            " [-0.28675917 -0.04855187  0.22290079  0.43279572  0.03104048  0.44817645\n",
            "  -0.55560095  0.14966303  0.04429899  0.14629463 -0.03254713 -0.3290024\n",
            "   0.1132762 ]\n",
            " [ 0.30864294 -0.00589032  0.16925303 -0.38816555  0.17123031  0.60130433\n",
            "  -0.14591139 -0.14958555  0.05594436 -0.39340716 -0.2116297   0.2552668\n",
            "   0.15161081]\n",
            " [-0.08886736 -0.52633004 -0.15886766  0.05280192  0.08025659  0.37715633\n",
            "   0.32205055  0.02544598 -0.61745081  0.05160377  0.15118626 -0.02528205\n",
            "  -0.16308069]\n",
            " [ 0.30119689  0.28399523  0.14029634  0.29582335 -0.32935599 -0.03887187\n",
            "  -0.26333196 -0.12780068 -0.35802554 -0.35713671  0.28540554  0.10169902\n",
            "  -0.42218666]\n",
            " [ 0.37783572  0.18136641  0.13133987  0.05170014  0.21901727 -0.22289654\n",
            "   0.01418764 -0.10716201 -0.50236448  0.05947167 -0.2681071  -0.41852942\n",
            "   0.43832826]\n",
            " [ 0.28836287 -0.3703045  -0.11347494  0.20518301 -0.13011228 -0.12981494\n",
            "  -0.20813693  0.04939411  0.0518583   0.03170837  0.40974091  0.36303616\n",
            "   0.58465831]]\n"
          ],
          "name": "stdout"
        }
      ]
    },
    {
      "cell_type": "code",
      "metadata": {
        "colab": {
          "base_uri": "https://localhost:8080/"
        },
        "id": "PDenUgPS0jYr",
        "outputId": "5c45e287-ba09-4245-d5fc-959659bfb00c"
      },
      "source": [
        "w_matrix = np.hstack((pairs[0][1].reshape(13,1), pairs[1][1].reshape(13,1))).real\n",
        "print(w_matrix)"
      ],
      "execution_count": 16,
      "outputs": [
        {
          "output_type": "stream",
          "text": [
            "[[ 0.15763477 -0.49414675]\n",
            " [-0.25237011 -0.1670862 ]\n",
            " [-0.01662626 -0.33581955]\n",
            " [-0.23514225  0.0230456 ]\n",
            " [ 0.14285062 -0.2816766 ]\n",
            " [ 0.38989121 -0.07164769]\n",
            " [ 0.42596901 -0.00569565]\n",
            " [-0.28675917 -0.04855187]\n",
            " [ 0.30864294 -0.00589032]\n",
            " [-0.08886736 -0.52633004]\n",
            " [ 0.30119689  0.28399523]\n",
            " [ 0.37783572  0.18136641]\n",
            " [ 0.28836287 -0.3703045 ]]\n"
          ],
          "name": "stdout"
        }
      ]
    },
    {
      "cell_type": "code",
      "metadata": {
        "colab": {
          "base_uri": "https://localhost:8080/",
          "height": 388
        },
        "id": "FFu36_9H-cWY",
        "outputId": "e24fe87e-ae79-48d5-d82f-b9bc1d71f0dc"
      },
      "source": [
        "X = X_train.dot(w_matrix)\n",
        "from matplotlib import pyplot as plt\n",
        "from sklearn.preprocessing import LabelEncoder\n",
        "\n",
        "le = LabelEncoder()\n",
        "y = le.fit_transform(y_train)\n",
        "plt.figure(2, figsize=(8, 6))\n",
        "plt.scatter(X[:,0], X[:,1], c=y, cmap='rainbow', edgecolors='k')\n",
        "plt.xlabel('alcohol')\n",
        "plt.ylabel('malic acid')\n",
        "plt.show()\n"
      ],
      "execution_count": 21,
      "outputs": [
        {
          "output_type": "display_data",
          "data": {
            "image/png": "[encoded data removed]",
            "text/plain": [
              "<Figure size 576x432 with 1 Axes>"
            ]
          },
          "metadata": {
            "tags": [],
            "needs_background": "light"
          }
        }
      ]
    },
    {
      "cell_type": "code",
      "metadata": {
        "id": "GZG5M6DYqU-y"
      },
      "source": [
        "X_train = pca.transform(X_train)\n",
        "X_test = pca.transform(X_test)"
      ],
      "execution_count": 23,
      "outputs": []
    },
    {
      "cell_type": "code",
      "metadata": {
        "colab": {
          "base_uri": "https://localhost:8080/"
        },
        "id": "kKJJJo-W7DWu",
        "outputId": "86830952-4791-4374-c7dd-44f3e5c4aca8"
      },
      "source": [
        "from sklearn.linear_model import LogisticRegression\n",
        "logistic_regr = LogisticRegression(solver = 'lbfgs')\n",
        "logistic_regr.fit(X_train, y_train)"
      ],
      "execution_count": 24,
      "outputs": [
        {
          "output_type": "execute_result",
          "data": {
            "text/plain": [
              "LogisticRegression(C=1.0, class_weight=None, dual=False, fit_intercept=True,\n",
              "                   intercept_scaling=1, l1_ratio=None, max_iter=100,\n",
              "                   multi_class='auto', n_jobs=None, penalty='l2',\n",
              "                   random_state=None, solver='lbfgs', tol=0.0001, verbose=0,\n",
              "                   warm_start=False)"
            ]
          },
          "metadata": {
            "tags": []
          },
          "execution_count": 24
        }
      ]
    },
    {
      "cell_type": "code",
      "metadata": {
        "colab": {
          "base_uri": "https://localhost:8080/"
        },
        "id": "w0DRSr_p7eFX",
        "outputId": "26792acc-719c-4351-b7f7-b0d5f1e97c2c"
      },
      "source": [
        "logistic_regr.predict(X_test[0].reshape(1,-1))"
      ],
      "execution_count": 26,
      "outputs": [
        {
          "output_type": "execute_result",
          "data": {
            "text/plain": [
              "array(['class_0'], dtype=object)"
            ]
          },
          "metadata": {
            "tags": []
          },
          "execution_count": 26
        }
      ]
    },
    {
      "cell_type": "code",
      "metadata": {
        "colab": {
          "base_uri": "https://localhost:8080/"
        },
        "id": "Vn2N4fco8EKA",
        "outputId": "b3823526-8d24-43a1-f994-3393ac438048"
      },
      "source": [
        "logistic_regr.predict(X_test[0:10])"
      ],
      "execution_count": 27,
      "outputs": [
        {
          "output_type": "execute_result",
          "data": {
            "text/plain": [
              "array(['class_0', 'class_1', 'class_0', 'class_0', 'class_0', 'class_0',\n",
              "       'class_2', 'class_1', 'class_1', 'class_2'], dtype=object)"
            ]
          },
          "metadata": {
            "tags": []
          },
          "execution_count": 27
        }
      ]
    },
    {
      "cell_type": "code",
      "metadata": {
        "colab": {
          "base_uri": "https://localhost:8080/"
        },
        "id": "TjZPbQ9e8Quv",
        "outputId": "c4e2adc2-c772-4a85-c684-f0e68f42df48"
      },
      "source": [
        "print('Accuracy Score: %0.2f' % logistic_regr.score(X_test, y_test))"
      ],
      "execution_count": 28,
      "outputs": [
        {
          "output_type": "stream",
          "text": [
            "Accuracy Score: 0.98\n"
          ],
          "name": "stdout"
        }
      ]
    }
  ]
}